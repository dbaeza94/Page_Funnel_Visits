{
  "cells": [
    {
      "cell_type": "markdown",
      "metadata": {
        "id": "view-in-github",
        "colab_type": "text"
      },
      "source": [
        "<a href=\"https://colab.research.google.com/github/dbaeza94/Page_Funnel_Visits/blob/main/Page_Funnel_Visits.ipynb\" target=\"_parent\"><img src=\"https://colab.research.google.com/assets/colab-badge.svg\" alt=\"Open In Colab\"/></a>"
      ]
    },
    {
      "cell_type": "code",
      "execution_count": null,
      "metadata": {
        "id": "9PXiRGATug5D"
      },
      "outputs": [],
      "source": [
        "import pandas as pd"
      ]
    },
    {
      "cell_type": "markdown",
      "metadata": {
        "id": "cHePtGqzug5F"
      },
      "source": [
        "Import all the files"
      ]
    },
    {
      "cell_type": "code",
      "execution_count": null,
      "metadata": {
        "id": "x-gioseYug5H"
      },
      "outputs": [],
      "source": [
        "visits = pd.read_csv('visits.csv',\n",
        "                     parse_dates=[1])\n",
        "cart = pd.read_csv('cart.csv',\n",
        "                   parse_dates=[1])\n",
        "                   \n",
        "checkout = pd.read_csv('checkout.csv',\n",
        "                       parse_dates=[1])\n",
        "purchase = pd.read_csv('purchase.csv',\n",
        "                       parse_dates=[1])"
      ]
    },
    {
      "cell_type": "markdown",
      "metadata": {
        "id": "VeNfV7O3ug5I"
      },
      "source": [
        "Step 1: Inspect the DataFrames using `print` and `head`"
      ]
    },
    {
      "cell_type": "code",
      "execution_count": null,
      "metadata": {
        "colab": {
          "base_uri": "https://localhost:8080/"
        },
        "id": "5HTQApJZug5I",
        "outputId": "767af6f3-1819-4256-f14e-7eaa22588465"
      },
      "outputs": [
        {
          "output_type": "stream",
          "name": "stdout",
          "text": [
            "                                user_id          visit_time\n",
            "0  943647ef-3682-4750-a2e1-918ba6f16188 2017-04-07 15:14:00\n",
            "1  0c3a3dd0-fb64-4eac-bf84-ba069ce409f2 2017-01-26 14:24:00\n",
            "2  6e0b2d60-4027-4d9a-babd-0e7d40859fb1 2017-08-20 08:23:00\n",
            "3  6879527e-c5a6-4d14-b2da-50b85212b0ab 2017-11-04 18:15:00\n",
            "4  a84327ff-5daa-4ba1-b789-d5b4caf81e96 2017-02-27 11:25:00\n",
            "                                user_id           cart_time\n",
            "0  2be90e7c-9cca-44e0-bcc5-124b945ff168 2017-11-07 20:45:00\n",
            "1  4397f73f-1da3-4ab3-91af-762792e25973 2017-05-27 01:35:00\n",
            "2  a9db3d4b-0a0a-4398-a55a-ebb2c7adf663 2017-03-04 10:38:00\n",
            "3  b594862a-36c5-47d5-b818-6e9512b939b3 2017-09-27 08:22:00\n",
            "4  a68a16e2-94f0-4ce8-8ce3-784af0bbb974 2017-07-26 15:48:00\n",
            "                                user_id       checkout_time\n",
            "0  d33bdc47-4afa-45bc-b4e4-dbe948e34c0d 2017-06-25 09:29:00\n",
            "1  4ac186f0-9954-4fea-8a27-c081e428e34e 2017-04-07 20:11:00\n",
            "2  3c9c78a7-124a-4b77-8d2e-e1926e011e7d 2017-07-13 11:38:00\n",
            "3  89fe330a-8966-4756-8f7c-3bdbcd47279a 2017-04-20 16:15:00\n",
            "4  3ccdaf69-2d30-40de-b083-51372881aedd 2017-01-08 20:52:00\n",
            "                                user_id       purchase_time\n",
            "0  4b44ace4-2721-47a0-b24b-15fbfa2abf85 2017-05-11 04:25:00\n",
            "1  02e684ae-a448-408f-a9ff-dcb4a5c99aac 2017-09-05 08:45:00\n",
            "2  4b4bc391-749e-4b90-ab8f-4f6e3c84d6dc 2017-11-20 20:49:00\n",
            "3  a5dbb25f-3c36-4103-9030-9f7c6241cd8d 2017-01-22 15:18:00\n",
            "4  46a3186d-7f5a-4ab9-87af-84d05bfd4867 2017-06-11 11:32:00\n"
          ]
        }
      ],
      "source": [
        "print(visits.head(5))\n",
        "print(cart.head(5))\n",
        "print(checkout.head(5))\n",
        "print(purchase.head(5))"
      ]
    },
    {
      "cell_type": "markdown",
      "metadata": {
        "id": "YDyOH6TPug5K"
      },
      "source": [
        "Step 2: Left merging visits and cart"
      ]
    },
    {
      "cell_type": "code",
      "execution_count": 21,
      "metadata": {
        "colab": {
          "base_uri": "https://localhost:8080/"
        },
        "id": "N1GATAIqug5L",
        "outputId": "1333bdac-0fe7-4f16-9bac-cde393c0ee5b"
      },
      "outputs": [
        {
          "output_type": "stream",
          "name": "stdout",
          "text": [
            "                                   user_id          visit_time  \\\n",
            "0     943647ef-3682-4750-a2e1-918ba6f16188 2017-04-07 15:14:00   \n",
            "1     0c3a3dd0-fb64-4eac-bf84-ba069ce409f2 2017-01-26 14:24:00   \n",
            "2     6e0b2d60-4027-4d9a-babd-0e7d40859fb1 2017-08-20 08:23:00   \n",
            "3     6879527e-c5a6-4d14-b2da-50b85212b0ab 2017-11-04 18:15:00   \n",
            "4     a84327ff-5daa-4ba1-b789-d5b4caf81e96 2017-02-27 11:25:00   \n",
            "...                                    ...                 ...   \n",
            "1995  33913ac2-03da-45ae-8fc3-fea39df827c6 2017-03-25 03:29:00   \n",
            "1996  4f850132-b99d-4623-80e6-6e61d003577e 2017-01-08 09:57:00   \n",
            "1997  f0830b9b-1f5c-4e74-b63d-3f847cc6ce70 2017-09-07 12:56:00   \n",
            "1998  b01bffa7-63ba-4cd3-9d93-eb1477c23831 2017-07-20 04:37:00   \n",
            "1999  0336ca81-8d68-443f-9248-ac0b8ad147d5 2017-11-15 10:11:00   \n",
            "\n",
            "               cart_time  \n",
            "0                    NaT  \n",
            "1    2017-01-26 14:44:00  \n",
            "2    2017-08-20 08:31:00  \n",
            "3                    NaT  \n",
            "4                    NaT  \n",
            "...                  ...  \n",
            "1995                 NaT  \n",
            "1996                 NaT  \n",
            "1997                 NaT  \n",
            "1998                 NaT  \n",
            "1999                 NaT  \n",
            "\n",
            "[2000 rows x 3 columns]\n"
          ]
        }
      ],
      "source": [
        "# We use the keyword 'how' to indicate what type of merging we are doing, then we just print it to check it out\n",
        "visits_cart = pd.merge(visits, cart, how = 'left')\n",
        "print(visits_cart)"
      ]
    },
    {
      "cell_type": "markdown",
      "metadata": {
        "id": "2wk3xxmgug5L"
      },
      "source": [
        "Step 3: How long is `visits_cart`?"
      ]
    },
    {
      "cell_type": "code",
      "execution_count": 42,
      "metadata": {
        "colab": {
          "base_uri": "https://localhost:8080/"
        },
        "id": "BlnIyAyeug5L",
        "outputId": "72f0b70b-e374-474c-a4f9-79c434ac6fc5"
      },
      "outputs": [
        {
          "output_type": "stream",
          "name": "stdout",
          "text": [
            "(2000, 3)\n",
            "2000\n"
          ]
        }
      ],
      "source": [
        "# We can use the method '.shape' to check the size of the present DataFrame, then we just print it\n",
        "# Or we can use the 'len()' method to check all the rows\n",
        "size = visits_cart.shape\n",
        "print(size)\n",
        "print(len(visits_cart))\n",
        "# we can translate as 'total_visits'\n",
        "total_visits = len(visits_cart)\n"
      ]
    },
    {
      "cell_type": "markdown",
      "metadata": {
        "id": "er_ZPtp5ug5L"
      },
      "source": [
        "Step 4: How many timestamps are null for `cart_time`?"
      ]
    },
    {
      "cell_type": "code",
      "execution_count": 43,
      "metadata": {
        "colab": {
          "base_uri": "https://localhost:8080/"
        },
        "id": "QTOWohKVug5M",
        "outputId": "0801a287-ac9c-49f5-a8fc-8ea35dfd9af5"
      },
      "outputs": [
        {
          "output_type": "stream",
          "name": "stdout",
          "text": [
            "1652\n"
          ]
        }
      ],
      "source": [
        "# we should indicate the DataFrame where the column is located\n",
        "# then we set the column name with '.condition', in this case '.isnull()' to check null values\n",
        "# Finally we use the method '.count()' to count how many rows are in this condition\n",
        "# OR we can use 'len()' method to check the lengh of the null values in this column without count() method\n",
        "visits_cart[visits_cart.cart_time.isnull()].count()\n",
        "\n",
        "print(len(visits_cart[visits_cart.cart_time.isnull()]))\n",
        "# we can translate as that cart_time has 1652 null values. This tells us that 1652 of the 2000 people who visited the site never made it to the cart.\n",
        "null_cart_times = len(visits_cart[visits_cart.cart_time.isnull()])"
      ]
    },
    {
      "cell_type": "markdown",
      "metadata": {
        "id": "69VHWNeGug5M"
      },
      "source": [
        "Step 5: What percentage only visited?"
      ]
    },
    {
      "cell_type": "code",
      "execution_count": 49,
      "metadata": {
        "id": "hVJ_gNvVug5M",
        "colab": {
          "base_uri": "https://localhost:8080/"
        },
        "outputId": "ebcb1226-ad38-4485-9134-06644e6eb8d0"
      },
      "outputs": [
        {
          "output_type": "stream",
          "name": "stdout",
          "text": [
            "82.6\n"
          ]
        }
      ],
      "source": [
        "visited_not_cart = float(null_cart_times) / float(total_visits)\n",
        "\n",
        "print(visited_not_cart* 100)"
      ]
    },
    {
      "cell_type": "markdown",
      "metadata": {
        "id": "gpyX36V-ug5N"
      },
      "source": [
        "Step 6: What percentage placed a t-shirt in their cart but did not checkout?"
      ]
    },
    {
      "cell_type": "code",
      "execution_count": 52,
      "metadata": {
        "id": "DMCQfuZuug5N",
        "colab": {
          "base_uri": "https://localhost:8080/"
        },
        "outputId": "161795f2-aeb5-493a-ad6b-5c6bbfe6a978"
      },
      "outputs": [
        {
          "output_type": "stream",
          "name": "stdout",
          "text": [
            "                                user_id           cart_time  \\\n",
            "0  2be90e7c-9cca-44e0-bcc5-124b945ff168 2017-11-07 20:45:00   \n",
            "1  4397f73f-1da3-4ab3-91af-762792e25973 2017-05-27 01:35:00   \n",
            "2  a9db3d4b-0a0a-4398-a55a-ebb2c7adf663 2017-03-04 10:38:00   \n",
            "3  b594862a-36c5-47d5-b818-6e9512b939b3 2017-09-27 08:22:00   \n",
            "4  a68a16e2-94f0-4ce8-8ce3-784af0bbb974 2017-07-26 15:48:00   \n",
            "\n",
            "        checkout_time  \n",
            "0 2017-11-07 21:14:00  \n",
            "1                 NaT  \n",
            "2 2017-03-04 11:04:00  \n",
            "3 2017-09-27 08:26:00  \n",
            "4                 NaT  \n",
            "Cart but not checkout: 35.06\n"
          ]
        }
      ],
      "source": [
        "cart_checkout = cart.merge(checkout, how = 'left')\n",
        "\n",
        "print(cart_checkout.head())\n",
        "\n",
        "null_checkout_times = len(cart_checkout[cart_checkout.checkout_time.isnull()])\n",
        "\n",
        "cart_not_checkout = float(null_checkout_times) / float(len(cart))\n",
        "\n",
        "print(\"Cart but not checkout:\", round((cart_not_checkout * 100),2))"
      ]
    },
    {
      "cell_type": "markdown",
      "metadata": {
        "id": "KbYxavm8ug5N"
      },
      "source": [
        "Step 7: Merge it all together"
      ]
    },
    {
      "cell_type": "code",
      "execution_count": 53,
      "metadata": {
        "id": "E6jy40ATug5N",
        "colab": {
          "base_uri": "https://localhost:8080/"
        },
        "outputId": "64501518-2b12-4936-9cd1-a534fa197b09"
      },
      "outputs": [
        {
          "output_type": "stream",
          "name": "stdout",
          "text": [
            "                                user_id          visit_time  \\\n",
            "0  943647ef-3682-4750-a2e1-918ba6f16188 2017-04-07 15:14:00   \n",
            "1  0c3a3dd0-fb64-4eac-bf84-ba069ce409f2 2017-01-26 14:24:00   \n",
            "2  6e0b2d60-4027-4d9a-babd-0e7d40859fb1 2017-08-20 08:23:00   \n",
            "3  6879527e-c5a6-4d14-b2da-50b85212b0ab 2017-11-04 18:15:00   \n",
            "4  a84327ff-5daa-4ba1-b789-d5b4caf81e96 2017-02-27 11:25:00   \n",
            "\n",
            "            cart_time       checkout_time       purchase_time  \n",
            "0                 NaT                 NaT                 NaT  \n",
            "1 2017-01-26 14:44:00 2017-01-26 14:54:00 2017-01-26 15:08:00  \n",
            "2 2017-08-20 08:31:00                 NaT                 NaT  \n",
            "3                 NaT                 NaT                 NaT  \n",
            "4                 NaT                 NaT                 NaT  \n"
          ]
        }
      ],
      "source": [
        "all_data = visits_cart\\\n",
        ".merge(cart_checkout, how = 'left')\\\n",
        ".merge(purchase, how = 'left')\n",
        "\n",
        "print(all_data.head(5))\n"
      ]
    },
    {
      "cell_type": "markdown",
      "metadata": {
        "id": "ypcWbpJsug5O"
      },
      "source": [
        "Step 8: % of users who got to checkout but did not purchase"
      ]
    },
    {
      "cell_type": "code",
      "execution_count": 56,
      "metadata": {
        "id": "qR369mHPug5O",
        "colab": {
          "base_uri": "https://localhost:8080/"
        },
        "outputId": "20dcba02-f110-44a0-a6d8-092d4a8cb489"
      },
      "outputs": [
        {
          "output_type": "stream",
          "name": "stdout",
          "text": [
            "% of users who got to checkout but did not purchase: 24.55\n"
          ]
        }
      ],
      "source": [
        "reached_checkout = all_data[~all_data.checkout_time.isnull()]\n",
        "# remember when we use ~ is '%'\n",
        "checkout_not_purchase = all_data[(all_data.purchase_time.isnull()) & (~all_data.checkout_time.isnull())]\n",
        "# remember when we use ~ is '%'\n",
        "checkout_not_purchase_percent = float(len(checkout_not_purchase)) / float(len(reached_checkout))\n",
        "\n",
        "print(\"% of users who got to checkout but did not purchase:\",round((checkout_not_purchase_percent * 100),2))"
      ]
    },
    {
      "cell_type": "markdown",
      "metadata": {
        "id": "qAaPRUITug5O"
      },
      "source": [
        "Step 9: check each part of the funnel, let's print all 3 of them again"
      ]
    },
    {
      "cell_type": "code",
      "execution_count": 57,
      "metadata": {
        "id": "ufa-uc6Pug5O",
        "colab": {
          "base_uri": "https://localhost:8080/"
        },
        "outputId": "79e1bb76-1835-47a4-a927-69fc1e9f7763"
      },
      "outputs": [
        {
          "output_type": "stream",
          "name": "stdout",
          "text": [
            "82.6 percent of users who visited the page did not add a t-shirt to their cart\n",
            "35.06 percent of users who added a t-shirt to their cart did not checkout\n",
            "24.55 percent of users who made it to checkout  did not purchase a shirt\n"
          ]
        }
      ],
      "source": [
        "print(\"{} percent of users who visited the page did not add a t-shirt to their cart\".format(round(visited_not_cart*100, 2)))\n",
        "print(\"{} percent of users who added a t-shirt to their cart did not checkout\".format(round(cart_not_checkout*100, 2)))\n",
        "print(\"{} percent of users who made it to checkout  did not purchase a shirt\".format(round( checkout_not_purchase_percent*100, 2)))"
      ]
    },
    {
      "cell_type": "markdown",
      "metadata": {
        "id": "ut2Jl2Dvug5P"
      },
      "source": [
        "*The weakest part of the funnel is clearly getting a person who visited the site to add a tshirt to their cart. Once they've added a t-shirt to their cart it is fairly likely they end up purchasing it. A suggestion could be to make the add-to-cart button more prominent on the front page.*\n",
        "\n",
        "\n",
        "Step 10: adding new column"
      ]
    },
    {
      "cell_type": "code",
      "execution_count": 58,
      "metadata": {
        "id": "6m2tNvxYug5P"
      },
      "outputs": [],
      "source": [
        "all_data['time_to_purchase'] = \\\n",
        "    all_data.purchase_time - \\\n",
        "    all_data.visit_time"
      ]
    },
    {
      "cell_type": "markdown",
      "metadata": {
        "id": "HF51scW8ug5P"
      },
      "source": [
        "Step 11: examine the results"
      ]
    },
    {
      "cell_type": "code",
      "execution_count": 59,
      "metadata": {
        "id": "VXL_thrBug5P",
        "colab": {
          "base_uri": "https://localhost:8080/"
        },
        "outputId": "7c830a68-6b7d-4e8e-9a0c-22523d7117cd"
      },
      "outputs": [
        {
          "output_type": "stream",
          "name": "stdout",
          "text": [
            "0                  NaT\n",
            "1      0 days 00:44:00\n",
            "2                  NaT\n",
            "3                  NaT\n",
            "4                  NaT\n",
            "             ...      \n",
            "2103               NaT\n",
            "2104               NaT\n",
            "2105               NaT\n",
            "2106               NaT\n",
            "2107               NaT\n",
            "Name: time_to_purchase, Length: 2108, dtype: timedelta64[ns]\n"
          ]
        }
      ],
      "source": [
        "print(all_data.time_to_purchase)"
      ]
    },
    {
      "cell_type": "markdown",
      "metadata": {
        "id": "rLQbyBGwug5P"
      },
      "source": [
        "Step 12: average time to purchase"
      ]
    },
    {
      "cell_type": "code",
      "execution_count": 60,
      "metadata": {
        "id": "Q8D3s0Yzug5Q",
        "colab": {
          "base_uri": "https://localhost:8080/"
        },
        "outputId": "8bd8f62d-536c-49e0-b738-a4967216ad93"
      },
      "outputs": [
        {
          "output_type": "stream",
          "name": "stdout",
          "text": [
            "0 days 00:43:12.380952380\n"
          ]
        }
      ],
      "source": [
        "print(all_data.time_to_purchase.mean())"
      ]
    },
    {
      "cell_type": "code",
      "execution_count": null,
      "metadata": {
        "id": "euep3SlBug5Q"
      },
      "outputs": [],
      "source": []
    }
  ],
  "metadata": {
    "kernelspec": {
      "display_name": "Python 3",
      "language": "python",
      "name": "python3"
    },
    "language_info": {
      "codemirror_mode": {
        "name": "ipython",
        "version": 3
      },
      "file_extension": ".py",
      "mimetype": "text/x-python",
      "name": "python",
      "nbconvert_exporter": "python",
      "pygments_lexer": "ipython3",
      "version": "3.8.5"
    },
    "colab": {
      "provenance": [],
      "include_colab_link": true
    }
  },
  "nbformat": 4,
  "nbformat_minor": 0
}